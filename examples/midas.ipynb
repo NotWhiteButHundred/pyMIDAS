{
 "cells": [
  {
   "cell_type": "markdown",
   "metadata": {},
   "source": [
    "# MIDAS example"
   ]
  },
  {
   "cell_type": "code",
   "execution_count": 13,
   "metadata": {},
   "outputs": [],
   "source": [
    "import sys\n",
    "sys.path.append('../')"
   ]
  },
  {
   "cell_type": "markdown",
   "metadata": {},
   "source": [
    "## Import packages"
   ]
  },
  {
   "cell_type": "code",
   "execution_count": 39,
   "metadata": {},
   "outputs": [],
   "source": [
    "from midas import midas\n",
    "import pandas as pd\n",
    "import numpy as np"
   ]
  },
  {
   "cell_type": "markdown",
   "metadata": {},
   "source": [
    "## Load data"
   ]
  },
  {
   "cell_type": "code",
   "execution_count": 17,
   "metadata": {},
   "outputs": [],
   "source": [
    "data = pd.read_csv(\n",
    "    \"darpa_midas.csv\",\n",
    "    names=['src', 'dst', 'timestamp', 'label'],\n",
    ")"
   ]
  },
  {
   "cell_type": "code",
   "execution_count": 18,
   "metadata": {},
   "outputs": [
    {
     "output_type": "execute_result",
     "data": {
      "text/plain": "         src  dst  timestamp  label\n0          2    3          1    NaN\n1          2    3          1    NaN\n2          3    4          2    NaN\n3          3    4          2    NaN\n4          5    9          2    NaN\n...      ...  ...        ...    ...\n4554339   19    4       1463    NaN\n4554340    6   76       1463    NaN\n4554341   19    4       1463    NaN\n4554342    6   76       1463    NaN\n4554343    6   10       1464    NaN\n\n[4554344 rows x 4 columns]",
      "text/html": "<div>\n<style scoped>\n    .dataframe tbody tr th:only-of-type {\n        vertical-align: middle;\n    }\n\n    .dataframe tbody tr th {\n        vertical-align: top;\n    }\n\n    .dataframe thead th {\n        text-align: right;\n    }\n</style>\n<table border=\"1\" class=\"dataframe\">\n  <thead>\n    <tr style=\"text-align: right;\">\n      <th></th>\n      <th>src</th>\n      <th>dst</th>\n      <th>timestamp</th>\n      <th>label</th>\n    </tr>\n  </thead>\n  <tbody>\n    <tr>\n      <th>0</th>\n      <td>2</td>\n      <td>3</td>\n      <td>1</td>\n      <td>NaN</td>\n    </tr>\n    <tr>\n      <th>1</th>\n      <td>2</td>\n      <td>3</td>\n      <td>1</td>\n      <td>NaN</td>\n    </tr>\n    <tr>\n      <th>2</th>\n      <td>3</td>\n      <td>4</td>\n      <td>2</td>\n      <td>NaN</td>\n    </tr>\n    <tr>\n      <th>3</th>\n      <td>3</td>\n      <td>4</td>\n      <td>2</td>\n      <td>NaN</td>\n    </tr>\n    <tr>\n      <th>4</th>\n      <td>5</td>\n      <td>9</td>\n      <td>2</td>\n      <td>NaN</td>\n    </tr>\n    <tr>\n      <th>...</th>\n      <td>...</td>\n      <td>...</td>\n      <td>...</td>\n      <td>...</td>\n    </tr>\n    <tr>\n      <th>4554339</th>\n      <td>19</td>\n      <td>4</td>\n      <td>1463</td>\n      <td>NaN</td>\n    </tr>\n    <tr>\n      <th>4554340</th>\n      <td>6</td>\n      <td>76</td>\n      <td>1463</td>\n      <td>NaN</td>\n    </tr>\n    <tr>\n      <th>4554341</th>\n      <td>19</td>\n      <td>4</td>\n      <td>1463</td>\n      <td>NaN</td>\n    </tr>\n    <tr>\n      <th>4554342</th>\n      <td>6</td>\n      <td>76</td>\n      <td>1463</td>\n      <td>NaN</td>\n    </tr>\n    <tr>\n      <th>4554343</th>\n      <td>6</td>\n      <td>10</td>\n      <td>1464</td>\n      <td>NaN</td>\n    </tr>\n  </tbody>\n</table>\n<p>4554344 rows × 4 columns</p>\n</div>"
     },
     "metadata": {},
     "execution_count": 18
    }
   ],
   "source": [
    "data"
   ]
  },
  {
   "cell_type": "markdown",
   "metadata": {},
   "source": [
    "## Find the anomaly score"
   ]
  },
  {
   "cell_type": "code",
   "execution_count": 19,
   "metadata": {
    "tags": []
   },
   "outputs": [
    {
     "output_type": "stream",
     "name": "stderr",
     "text": "100%|██████████| 960/960 [07:34<00:00,  2.11it/s]\n"
    }
   ],
   "source": [
    "anomaly_score = midas(\n",
    "    data,\n",
    "    num_rows=2,\n",
    "    num_buckets=769,\n",
    ")"
   ]
  },
  {
   "cell_type": "code",
   "execution_count": 29,
   "metadata": {},
   "outputs": [
    {
     "output_type": "execute_result",
     "data": {
      "text/plain": "array([0.00000000e+00, 0.00000000e+00, 1.00000000e+00, ...,\n       1.85016183e+03, 2.50111755e+03, 5.80375153e+00])"
     },
     "metadata": {},
     "execution_count": 29
    }
   ],
   "source": [
    "np.array(anomaly_score)"
   ]
  },
  {
   "cell_type": "markdown",
   "metadata": {},
   "source": [
    "## Save the anomaly score for finding AUC"
   ]
  },
  {
   "cell_type": "code",
   "execution_count": 33,
   "metadata": {},
   "outputs": [],
   "source": [
    "np.savetxt('anomaly_scores.txt', anomaly_score)"
   ]
  },
  {
   "cell_type": "markdown",
   "metadata": {},
   "source": [
    "## Find the AUC score"
   ]
  },
  {
   "cell_type": "code",
   "execution_count": 40,
   "metadata": {},
   "outputs": [],
   "source": [
    "from sklearn import metrics\n",
    "def auc(labelFile):\n",
    "    data = pd.read_csv(labelFile, names=[\"label\"])\n",
    "    # data = data.head()\n",
    "\n",
    "    methods = [\"midasPrat\"]\n",
    "    for i in range(len(methods)):\n",
    "        scores = pd.read_csv(\"anomaly_scores.txt\", header=None, squeeze=True)\n",
    "        fpr, tpr, _ = metrics.roc_curve(data.label, scores)\n",
    "        auc = metrics.roc_auc_score(data.label, scores)\n",
    "        print(\"TPR:\", tpr)\n",
    "        print(\"FPR:\", fpr)\n",
    "\n",
    "        print(\"AUC: \", auc)\n"
   ]
  },
  {
   "cell_type": "code",
   "execution_count": 41,
   "metadata": {
    "tags": []
   },
   "outputs": [
    {
     "output_type": "stream",
     "name": "stdout",
     "text": "TPR: [0.00000000e+00 3.65335639e-07 1.07226010e-03 ... 9.99995616e-01\n 9.99995616e-01 1.00000000e+00]\nFPR: [0.         0.         0.         ... 0.9998184  0.99981895 1.        ]\nAUC:  0.9175562291257859\n"
    }
   ],
   "source": [
    "auc(\"https://raw.githubusercontent.com/Stream-AD/MIDAS/master/data/DARPA/darpa_ground_truth.csv\")"
   ]
  },
  {
   "cell_type": "code",
   "execution_count": null,
   "metadata": {},
   "outputs": [],
   "source": []
  }
 ],
 "metadata": {
  "kernelspec": {
   "display_name": "Python 3",
   "language": "python",
   "name": "python3"
  },
  "language_info": {
   "codemirror_mode": {
    "name": "ipython",
    "version": 3
   },
   "file_extension": ".py",
   "mimetype": "text/x-python",
   "name": "python",
   "nbconvert_exporter": "python",
   "pygments_lexer": "ipython3",
   "version": "3.7.6-final"
  }
 },
 "nbformat": 4,
 "nbformat_minor": 2
}